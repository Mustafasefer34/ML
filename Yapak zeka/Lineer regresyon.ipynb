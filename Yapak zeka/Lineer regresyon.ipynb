{
 "cells": [
  {
   "cell_type": "markdown",
   "id": "f61eb9ac",
   "metadata": {},
   "source": [
    "Lineer regresyon\n",
    "Bir makine öğrenmesi metodu tahminde bulunmak için çıktı üretir\n",
    "  \n",
    "  Bu çıktı kategorik ise sınıflandırma(Classification)\n",
    "  Eğer çıktı nümerik ise regresyon denir\n",
    "  Açıklayıcı bir modelleme olan kümeleme(Clusterring) ise benzer         \n",
    "  gözlemleri aynı kümelere atama işlemidir.\n",
    "  \n",
    "  \n",
    "  Kabaca lineer regresyon verileri arasında var olan ilişkiyi kullanarak \n",
    "  yeni gelecek verileri tahmin etme modelidir. Bize veriler arasındaki \n",
    "  ilişkiyi beklememize yardımcı olur ve bu sayede yeni verileri tahmin \n",
    "  edebiliriz."
   ]
  },
  {
   "cell_type": "code",
   "execution_count": 12,
   "id": "e55acfb5",
   "metadata": {},
   "outputs": [
    {
     "data": {
      "image/png": "[encoded data removed]",
      "text/plain": [
       "<Figure size 640x480 with 1 Axes>"
      ]
     },
     "metadata": {},
     "output_type": "display_data"
    }
   ],
   "source": [
    "import pandas as pd\n",
    "import matplotlib.pyplot as plt\n",
    "from sklearn import linear_model\n",
    "\n",
    "#a veri setimizi import ediyoruz\n",
    "df=pd.read_csv(\"linearregression.csv\", sep=\";\")\n",
    "\n",
    "plt.xlabel('alan')\n",
    "plt.ylabel('fiyat')\n",
    "plt.scatter(df.alan,df.fiyat,color='red',marker='+')\n",
    "plt.show()"
   ]
  },
  {
   "cell_type": "code",
   "execution_count": 13,
   "id": "4b29fb9d",
   "metadata": {},
   "outputs": [
    {
     "name": "stderr",
     "output_type": "stream",
     "text": [
      "C:\\Users\\casper\\anaconda3\\Lib\\site-packages\\sklearn\\base.py:464: UserWarning: X does not have valid feature names, but LinearRegression was fitted with feature names\n",
      "  warnings.warn(\n"
     ]
    },
    {
     "data": {
      "text/plain": [
       "array([576826.14379085])"
      ]
     },
     "execution_count": 13,
     "metadata": {},
     "output_type": "execute_result"
    }
   ],
   "source": [
    "#lineer regresyon model\n",
    "reg=linear_model.LinearRegression()\n",
    "reg.fit(df[['alan']],df['fiyat'])\n",
    "reg.predict([[275]])"
   ]
  },
  {
   "cell_type": "code",
   "execution_count": 10,
   "id": "1f12f568",
   "metadata": {},
   "outputs": [
    {
     "data": {
      "text/html": [
       "<div>\n",
       "<style scoped>\n",
       "    .dataframe tbody tr th:only-of-type {\n",
       "        vertical-align: middle;\n",
       "    }\n",
       "\n",
       "    .dataframe tbody tr th {\n",
       "        vertical-align: top;\n",
       "    }\n",
       "\n",
       "    .dataframe thead th {\n",
       "        text-align: right;\n",
       "    }\n",
       "</style>\n",
       "<table border=\"1\" class=\"dataframe\">\n",
       "  <thead>\n",
       "    <tr style=\"text-align: right;\">\n",
       "      <th></th>\n",
       "      <th>alan</th>\n",
       "      <th>fiyat</th>\n",
       "    </tr>\n",
       "  </thead>\n",
       "  <tbody>\n",
       "    <tr>\n",
       "      <th>0</th>\n",
       "      <td>180</td>\n",
       "      <td>495000</td>\n",
       "    </tr>\n",
       "    <tr>\n",
       "      <th>1</th>\n",
       "      <td>225</td>\n",
       "      <td>525000</td>\n",
       "    </tr>\n",
       "    <tr>\n",
       "      <th>2</th>\n",
       "      <td>260</td>\n",
       "      <td>550000</td>\n",
       "    </tr>\n",
       "    <tr>\n",
       "      <th>3</th>\n",
       "      <td>320</td>\n",
       "      <td>610000</td>\n",
       "    </tr>\n",
       "    <tr>\n",
       "      <th>4</th>\n",
       "      <td>335</td>\n",
       "      <td>625000</td>\n",
       "    </tr>\n",
       "    <tr>\n",
       "      <th>5</th>\n",
       "      <td>345</td>\n",
       "      <td>632000</td>\n",
       "    </tr>\n",
       "    <tr>\n",
       "      <th>6</th>\n",
       "      <td>355</td>\n",
       "      <td>680000</td>\n",
       "    </tr>\n",
       "    <tr>\n",
       "      <th>7</th>\n",
       "      <td>400</td>\n",
       "      <td>725000</td>\n",
       "    </tr>\n",
       "  </tbody>\n",
       "</table>\n",
       "</div>"
      ],
      "text/plain": [
       "   alan   fiyat\n",
       "0   180  495000\n",
       "1   225  525000\n",
       "2   260  550000\n",
       "3   320  610000\n",
       "4   335  625000\n",
       "5   345  632000\n",
       "6   355  680000\n",
       "7   400  725000"
      ]
     },
     "execution_count": 10,
     "metadata": {},
     "output_type": "execute_result"
    }
   ],
   "source": [
    "df"
   ]
  },
  {
   "cell_type": "code",
   "execution_count": 14,
   "id": "b0948b37",
   "metadata": {},
   "outputs": [
    {
     "data": {
      "text/plain": [
       "pandas.core.frame.DataFrame"
      ]
     },
     "execution_count": 14,
     "metadata": {},
     "output_type": "execute_result"
    }
   ],
   "source": [
    "type(df[['alan']])"
   ]
  },
  {
   "cell_type": "code",
   "execution_count": 15,
   "id": "23cad8eb",
   "metadata": {},
   "outputs": [
    {
     "data": {
      "text/plain": [
       "array([1033.59477124])"
      ]
     },
     "execution_count": 15,
     "metadata": {},
     "output_type": "execute_result"
    }
   ],
   "source": [
    "reg.coef_ #b"
   ]
  },
  {
   "cell_type": "code",
   "execution_count": 16,
   "id": "afcc4a9e",
   "metadata": {},
   "outputs": [
    {
     "data": {
      "text/plain": [
       "292587.5816993463"
      ]
     },
     "execution_count": 16,
     "metadata": {},
     "output_type": "execute_result"
    }
   ],
   "source": [
    "reg.intercept_ #a"
   ]
  },
  {
   "cell_type": "code",
   "execution_count": 17,
   "id": "38df0e75",
   "metadata": {},
   "outputs": [
    {
     "data": {
      "text/plain": [
       "array([576826.14379085])"
      ]
     },
     "execution_count": 17,
     "metadata": {},
     "output_type": "execute_result"
    }
   ],
   "source": [
    "#Liner regresyon formülümüz\n",
    "#y=a+bX\n",
    "a=reg.intercept_\n",
    "b=reg.coef_\n",
    "x=275\n",
    "y=a+b*x\n",
    "y"
   ]
  },
  {
   "cell_type": "code",
   "execution_count": 21,
   "id": "316e32ad",
   "metadata": {},
   "outputs": [
    {
     "data": {
      "image/png": "[encoded data removed]",
      "text/plain": [
       "<Figure size 640x480 with 1 Axes>"
      ]
     },
     "metadata": {},
     "output_type": "display_data"
    }
   ],
   "source": [
    "plt.xlabel('alan',color='red')\n",
    "plt.ylabel('fiyat',color='red')\n",
    "plt.title(\"Liner Regresyon\",color='red'),\n",
    "plt.scatter(df.alan,df.fiyat,color='red',marker='+')\n",
    "plt.plot(df.alan,reg.predict(df[['alan']]),color='blue')\n",
    "plt.show()\n"
   ]
  },
  {
   "cell_type": "code",
   "execution_count": null,
   "id": "d5aa2b22",
   "metadata": {},
   "outputs": [],
   "source": []
  }
 ],
 "metadata": {
  "kernelspec": {
   "display_name": "Python 3 (ipykernel)",
   "language": "python",
   "name": "python3"
  },
  "language_info": {
   "codemirror_mode": {
    "name": "ipython",
    "version": 3
   },
   "file_extension": ".py",
   "mimetype": "text/x-python",
   "name": "python",
   "nbconvert_exporter": "python",
   "pygments_lexer": "ipython3",
   "version": "3.11.5"
  }
 },
 "nbformat": 4,
 "nbformat_minor": 5
}
