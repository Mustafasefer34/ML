{
 "cells": [
  {
   "cell_type": "markdown",
   "id": "b411a0f7",
   "metadata": {},
   "source": [
    "# Multiple lineer regresyon"
   ]
  },
  {
   "cell_type": "markdown",
   "id": "3250374e",
   "metadata": {},
   "source": [
    "Multiple lineer regresyonda birden fazla bağımsız değişkene karşılık bir bağımlı değişken bulunur.\n",
    "\n",
    "Liner regresyon verileri arasında var olan ilişkiyi kullanarak yeni gelecek verileri tahmin etme modelidir. Burada makine öğrenimi bie veriler arasındaki bu ilişkiyi belirlememize yardımcı olur ve bu sayede yeni verileri  tahmin edebiliriz."
   ]
  },
  {
   "cell_type": "code",
   "execution_count": 1,
   "id": "77ea3047",
   "metadata": {},
   "outputs": [],
   "source": [
    "import pandas as pd\n",
    "import matplotlib.pyplot as plt\n",
    "from sklearn import linear_model\n",
    "\n",
    "\n"
   ]
  },
  {
   "cell_type": "code",
   "execution_count": null,
   "id": "a95780d7",
   "metadata": {},
   "outputs": [],
   "source": [
    "df=pd.read_csv(\"multilinearregression.csv\",sep=';')"
   ]
  },
  {
   "cell_type": "code",
   "execution_count": null,
   "id": "79036668",
   "metadata": {},
   "outputs": [],
   "source": [
    "df"
   ]
  },
  {
   "cell_type": "code",
   "execution_count": null,
   "id": "74d76f6d",
   "metadata": {},
   "outputs": [],
   "source": [
    "reg=linear_model.LinearRegression()\n",
    "reg.fit(df[['alan','odasayisi','binayasi']],df['fiyat'])\n",
    "reg.predict([[230,4,10]])\n"
   ]
  },
  {
   "cell_type": "code",
   "execution_count": null,
   "id": "97be888f",
   "metadata": {},
   "outputs": [],
   "source": []
  },
  {
   "cell_type": "code",
   "execution_count": 2,
   "id": "7d6cdbdb",
   "metadata": {},
   "outputs": [],
   "source": [
    "import pickle"
   ]
  },
  {
   "cell_type": "code",
   "execution_count": 3,
   "id": "556946e2",
   "metadata": {},
   "outputs": [],
   "source": [
    "mymodel=pickle.load(open(\"evfiyattahmini_mlr_model.pickle\",'rb'))"
   ]
  },
  {
   "cell_type": "code",
   "execution_count": 4,
   "id": "359e709f",
   "metadata": {
    "scrolled": true
   },
   "outputs": [
    {
     "name": "stderr",
     "output_type": "stream",
     "text": [
      "C:\\Users\\casper\\anaconda3\\Lib\\site-packages\\sklearn\\base.py:464: UserWarning: X does not have valid feature names, but LinearRegression was fitted with feature names\n",
      "  warnings.warn(\n"
     ]
    },
    {
     "data": {
      "text/plain": [
       "array([530243.29284619])"
      ]
     },
     "execution_count": 4,
     "metadata": {},
     "output_type": "execute_result"
    }
   ],
   "source": [
    "mymodel.predict([[230,4,10]])"
   ]
  },
  {
   "cell_type": "code",
   "execution_count": null,
   "id": "5a88efe0",
   "metadata": {},
   "outputs": [],
   "source": []
  },
  {
   "cell_type": "code",
   "execution_count": null,
   "id": "733235e9",
   "metadata": {},
   "outputs": [],
   "source": []
  },
  {
   "cell_type": "code",
   "execution_count": null,
   "id": "cdff14a7",
   "metadata": {},
   "outputs": [],
   "source": [
    "model_dosyasi=\"evfiyattahmini_mlr_model.pickle\""
   ]
  },
  {
   "cell_type": "code",
   "execution_count": null,
   "id": "550033a2",
   "metadata": {},
   "outputs": [],
   "source": [
    "pickle.dump(reg,open(model_dosyasi,'wb'))"
   ]
  },
  {
   "cell_type": "code",
   "execution_count": null,
   "id": "7dad3bbf",
   "metadata": {},
   "outputs": [],
   "source": []
  },
  {
   "cell_type": "code",
   "execution_count": null,
   "id": "d08fd841",
   "metadata": {},
   "outputs": [],
   "source": []
  },
  {
   "cell_type": "code",
   "execution_count": null,
   "id": "4d90c504",
   "metadata": {},
   "outputs": [],
   "source": []
  },
  {
   "cell_type": "code",
   "execution_count": null,
   "id": "90ae3b8a",
   "metadata": {},
   "outputs": [],
   "source": [
    "reg.predict([[230,6,0]])"
   ]
  },
  {
   "cell_type": "code",
   "execution_count": null,
   "id": "0873396c",
   "metadata": {},
   "outputs": [],
   "source": [
    "reg.predict([[355,3,20]])"
   ]
  },
  {
   "cell_type": "code",
   "execution_count": null,
   "id": "da9a1f82",
   "metadata": {},
   "outputs": [],
   "source": [
    "reg.coef_"
   ]
  },
  {
   "cell_type": "code",
   "execution_count": null,
   "id": "1b62c050",
   "metadata": {},
   "outputs": [],
   "source": [
    "reg.intercept_"
   ]
  },
  {
   "cell_type": "code",
   "execution_count": null,
   "id": "e894bf30",
   "metadata": {},
   "outputs": [],
   "source": [
    "#y=a+b1x1+b2x2+b3x3\n",
    "\n",
    "a=reg.intercept_\n",
    "b1=reg.coef_[0]\n",
    "b2=reg.coef_[1]\n",
    "b3=reg.coef_[2]\n",
    "\n",
    "x1=230\n",
    "x2=4\n",
    "x3=10\n",
    "y=a+b1*x1+b2*x2+b3*x3"
   ]
  },
  {
   "cell_type": "code",
   "execution_count": null,
   "id": "4e45fd52",
   "metadata": {},
   "outputs": [],
   "source": [
    "y"
   ]
  },
  {
   "cell_type": "code",
   "execution_count": null,
   "id": "081b5d9a",
   "metadata": {},
   "outputs": [],
   "source": [
    "df.fiyat"
   ]
  },
  {
   "cell_type": "code",
   "execution_count": null,
   "id": "74716f23",
   "metadata": {},
   "outputs": [],
   "source": []
  }
 ],
 "metadata": {
  "kernelspec": {
   "display_name": "Python 3 (ipykernel)",
   "language": "python",
   "name": "python3"
  },
  "language_info": {
   "codemirror_mode": {
    "name": "ipython",
    "version": 3
   },
   "file_extension": ".py",
   "mimetype": "text/x-python",
   "name": "python",
   "nbconvert_exporter": "python",
   "pygments_lexer": "ipython3",
   "version": "3.11.5"
  }
 },
 "nbformat": 4,
 "nbformat_minor": 5
}
